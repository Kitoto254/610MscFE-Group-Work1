{
 "cells": [
  {
   "cell_type": "code",
   "execution_count": 8,
   "id": "03e5a74c-6951-4be8-b414-a1bce36adbdd",
   "metadata": {},
   "outputs": [],
   "source": [
    "#Question 3\n",
    "\n",
    "import matplotlib.pyplot as plt\n",
    "import numpy as np\n",
    "import pandas as pd\n",
    "import statsmodels.api as sm\n",
    "from statsmodels.stats.outliers_influence import variance_inflation_factor\n",
    "import itertools\n",
    "from scipy import stats"
   ]
  },
  {
   "cell_type": "code",
   "execution_count": 9,
   "id": "945e5db0-dd3f-4811-b45d-2c17e0d10832",
   "metadata": {},
   "outputs": [
    {
     "name": "stdout",
     "output_type": "stream",
     "text": [
      "Data shape: (100, 6)\n",
      "          Y       Z1         Z2        Z3        Z4        Z5\n",
      "0  2.172296  0.121634 -0.051562  0.570616  1.279931  0.075233\n",
      "1  0.502380  0.025446 -0.093062  0.304875 -0.582292  0.377388\n",
      "2  0.711362 -0.136716 -0.082229 -0.191680 -0.647970  1.230986\n",
      "3 -0.557168 -0.284459 -0.170922 -0.853670 -1.256146 -0.991686\n",
      "4  1.500199  0.105205 -0.169141  0.826558  0.640945  1.099873 \n",
      "\n",
      "Candidate predictors: ['Z1 ', 'Z2', 'Z3', 'Z4', 'Z5'] \n",
      "\n"
     ]
    }
   ],
   "source": [
    "#Load the new dataset\n",
    "\n",
    "df = pd.read_csv(\"C:\\\\Users\\OkechPC\\Downloads\\FE-GWP1_model_selection_2.csv\")\n",
    "print(\"Data shape:\", df.shape)\n",
    "print(df.head(), \"\\n\")\n",
    "\n",
    "# Identify dependent and independent variables\n",
    "y = df[\"Y\"]                         \n",
    "predictors = [c for c in df.columns if c != \"Y\"]\n",
    "print(\"Candidate predictors:\", predictors, \"\\n\")\n"
   ]
  },
  {
   "cell_type": "code",
   "execution_count": 10,
   "id": "f4d1f398-85a8-40e8-acff-9e364eed1cb1",
   "metadata": {},
   "outputs": [
    {
     "name": "stdout",
     "output_type": "stream",
     "text": [
      "Top 5 models by Adjusted R²\n",
      "                   subset  k    adj_R2         AIC         BIC\n",
      "30  (Z1 , Z2, Z3, Z4, Z5)  5  0.993573 -165.902248 -150.271227\n",
      "29       (Z2, Z3, Z4, Z5)  4  0.989545 -118.185565 -105.159714\n",
      "28      (Z1 , Z3, Z4, Z5)  4  0.985698  -86.850250  -73.824399\n",
      "24           (Z3, Z4, Z5)  3  0.982814  -69.435042  -59.014362\n",
      "25      (Z1 , Z2, Z3, Z4)  4  0.965353    1.630684   14.656535 \n",
      "\n",
      "Top 5 models by AIC\n",
      "                   subset  k    adj_R2         AIC         BIC\n",
      "30  (Z1 , Z2, Z3, Z4, Z5)  5  0.993573 -165.902248 -150.271227\n",
      "29       (Z2, Z3, Z4, Z5)  4  0.989545 -118.185565 -105.159714\n",
      "28      (Z1 , Z3, Z4, Z5)  4  0.985698  -86.850250  -73.824399\n",
      "24           (Z3, Z4, Z5)  3  0.982814  -69.435042  -59.014362\n",
      "25      (Z1 , Z2, Z3, Z4)  4  0.965353    1.630684   14.656535 \n",
      "\n",
      "Top 5 models by BIC\n",
      "                   subset  k    adj_R2         AIC         BIC\n",
      "30  (Z1 , Z2, Z3, Z4, Z5)  5  0.993573 -165.902248 -150.271227\n",
      "29       (Z2, Z3, Z4, Z5)  4  0.989545 -118.185565 -105.159714\n",
      "28      (Z1 , Z3, Z4, Z5)  4  0.985698  -86.850250  -73.824399\n",
      "24           (Z3, Z4, Z5)  3  0.982814  -69.435042  -59.014362\n",
      "25      (Z1 , Z2, Z3, Z4)  4  0.965353    1.630684   14.656535 \n",
      "\n"
     ]
    }
   ],
   "source": [
    "#All-subsets OLS regressions\n",
    "\n",
    "results = []\n",
    "for k in range(1, len(predictors)+1):\n",
    "    for subset in itertools.combinations(predictors, k):\n",
    "        X = sm.add_constant(df[list(subset)])\n",
    "        model = sm.OLS(y, X).fit()\n",
    "        results.append({\n",
    "            \"subset\": subset,\n",
    "            \"k\": k,\n",
    "            \"adj_R2\": model.rsquared_adj,\n",
    "            \"AIC\": model.aic,\n",
    "            \"BIC\": model.bic\n",
    "        })\n",
    "\n",
    "res_df = pd.DataFrame(results)\n",
    "print(\"Top 5 models by Adjusted R²\")\n",
    "print(res_df.sort_values(\"adj_R2\", ascending=False).head(), \"\\n\")\n",
    "print(\"Top 5 models by AIC\")\n",
    "print(res_df.sort_values(\"AIC\").head(), \"\\n\")\n",
    "print(\"Top 5 models by BIC\")\n",
    "print(res_df.sort_values(\"BIC\").head(), \"\\n\")"
   ]
  },
  {
   "cell_type": "code",
   "execution_count": 11,
   "id": "ec1400f2-890b-438b-b645-389a8ec6d311",
   "metadata": {},
   "outputs": [
    {
     "name": "stdout",
     "output_type": "stream",
     "text": [
      "Best model predictors: ['Z1 ', 'Z2', 'Z3', 'Z4', 'Z5']\n",
      "\n",
      "                            OLS Regression Results                            \n",
      "==============================================================================\n",
      "Dep. Variable:                      Y   R-squared:                       0.994\n",
      "Model:                            OLS   Adj. R-squared:                  0.994\n",
      "Method:                 Least Squares   F-statistic:                     3062.\n",
      "Date:                Tue, 16 Sep 2025   Prob (F-statistic):          2.07e-102\n",
      "Time:                        18:23:50   Log-Likelihood:                 88.951\n",
      "No. Observations:                 100   AIC:                            -165.9\n",
      "Df Residuals:                      94   BIC:                            -150.3\n",
      "Df Model:                           5                                         \n",
      "Covariance Type:            nonrobust                                         \n",
      "==============================================================================\n",
      "                 coef    std err          t      P>|t|      [0.025      0.975]\n",
      "------------------------------------------------------------------------------\n",
      "const          1.0097      0.013     77.496      0.000       0.984       1.036\n",
      "Z1             0.4487      0.058      7.781      0.000       0.334       0.563\n",
      "Z2             0.2987      0.028     10.836      0.000       0.244       0.353\n",
      "Z3            -0.4065      0.010    -39.578      0.000      -0.427      -0.386\n",
      "Z4             1.0082      0.009    114.106      0.000       0.991       1.026\n",
      "Z5             0.2572      0.013     20.449      0.000       0.232       0.282\n",
      "==============================================================================\n",
      "Omnibus:                        0.377   Durbin-Watson:                   2.046\n",
      "Prob(Omnibus):                  0.828   Jarque-Bera (JB):                0.126\n",
      "Skew:                           0.072   Prob(JB):                        0.939\n",
      "Kurtosis:                       3.097   Cond. No.                         9.13\n",
      "==============================================================================\n",
      "\n",
      "Notes:\n",
      "[1] Standard Errors assume that the covariance matrix of the errors is correctly specified.\n"
     ]
    }
   ],
   "source": [
    "#Fit the best model (highest Adjusted R²)\n",
    "\n",
    "best = res_df.sort_values(\"adj_R2\", ascending=False).iloc[0]\n",
    "best_predictors = list(best[\"subset\"])\n",
    "print(f\"Best model predictors: {best_predictors}\\n\")\n",
    "\n",
    "X_best = sm.add_constant(df[best_predictors])\n",
    "best_model = sm.OLS(y, X_best).fit()\n",
    "print(best_model.summary())"
   ]
  },
  {
   "cell_type": "code",
   "execution_count": 12,
   "id": "8b0df9d9-1700-40d0-a9ed-eff2231c4b36",
   "metadata": {},
   "outputs": [
    {
     "name": "stdout",
     "output_type": "stream",
     "text": [
      "\n",
      "Variance Inflation Factors\n",
      "  Variable       VIF\n",
      "0    const  1.614501\n",
      "1      Z1   1.026366\n",
      "2       Z2  1.022433\n",
      "3       Z3  1.013241\n",
      "4       Z4  1.003538\n",
      "5       Z5  1.014190 \n",
      "\n"
     ]
    }
   ],
   "source": [
    "#Multicollinearity check\n",
    "\n",
    "vif_data = pd.DataFrame({\n",
    "    \"Variable\": X_best.columns,\n",
    "    \"VIF\": [variance_inflation_factor(X_best.values, i)\n",
    "            for i in range(X_best.shape[1])]\n",
    "})\n",
    "print(\"\\nVariance Inflation Factors\")\n",
    "print(vif_data, \"\\n\")"
   ]
  },
  {
   "cell_type": "code",
   "execution_count": 13,
   "id": "9965b4e0-2726-46f2-90ce-94f47fdb9e40",
   "metadata": {},
   "outputs": [
    {
     "name": "stdout",
     "output_type": "stream",
     "text": [
      "Residual mean: 9.769962616701378e-17\n",
      "Residual std: 0.09991608383209873\n",
      "Skewness: 0.07338360732705755\n",
      "Kurtosis: 0.164680748635607\n"
     ]
    }
   ],
   "source": [
    "#Basic residual diagnostics\n",
    "\n",
    "resid = best_model.resid\n",
    "print(\"Residual mean:\", resid.mean())\n",
    "print(\"Residual std:\", resid.std(ddof=1))\n",
    "print(\"Skewness:\", resid.skew())\n",
    "print(\"Kurtosis:\", resid.kurtosis())"
   ]
  }
 ],
 "metadata": {
  "kernelspec": {
   "display_name": "Python 3 (ipykernel)",
   "language": "python",
   "name": "python3"
  },
  "language_info": {
   "codemirror_mode": {
    "name": "ipython",
    "version": 3
   },
   "file_extension": ".py",
   "mimetype": "text/x-python",
   "name": "python",
   "nbconvert_exporter": "python",
   "pygments_lexer": "ipython3",
   "version": "3.11.4"
  }
 },
 "nbformat": 4,
 "nbformat_minor": 5
}
