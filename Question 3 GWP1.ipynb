{
 "cells": [
  {
   "cell_type": "code",
   "execution_count": 10,
   "id": "e2567c0f-80fa-42be-8ff5-dbfaac27baf9",
   "metadata": {},
   "outputs": [],
   "source": [
    "#Question 3\n",
    "\n",
    "import matplotlib.pyplot as plt\n",
    "import numpy as np\n",
    "import pandas as pd\n",
    "import itertools\n",
    "import statsmodels.api as sm\n",
    "from statsmodels.tsa.statespace.sarimax import SARIMAX\n",
    "from statsmodels.stats.outliers_influence import variance_inflation_factor\n"
   ]
  },
  {
   "cell_type": "code",
   "execution_count": 11,
   "id": "ebb943a5-c599-425b-bb8e-9841fbf7f353",
   "metadata": {},
   "outputs": [
    {
     "name": "stdout",
     "output_type": "stream",
     "text": [
      "Data shape: (100, 6)\n",
      "          Y        X1        X2        X3        X4        X5\n",
      "0  3.388410  0.017954 -0.800583 -0.352454  2.187210  1.014887\n",
      "1  0.287191  0.083057 -0.597947 -0.357639 -1.630284  0.221841\n",
      "2  3.989645 -0.923437 -1.386575  1.180202  0.632606 -1.576638\n",
      "3 -2.959602 -0.313775  2.955133 -1.798692 -2.117621  0.159291\n",
      "4  0.529773  0.388996  1.019611  0.472062  0.590497  0.877048 \n",
      "\n"
     ]
    }
   ],
   "source": [
    "#Load the dataset\n",
    "df = pd.read_csv(\"C:\\\\Users\\\\OkechPC\\\\Downloads\\\\FE-GWP1_model_selection_1.csv\")\n",
    "print(\"Data shape:\", df.shape)\n",
    "print(df.head(), \"\\n\")"
   ]
  },
  {
   "cell_type": "code",
   "execution_count": 12,
   "id": "bb7e8b37-aa4d-4b19-a06e-31edaa1e2d78",
   "metadata": {},
   "outputs": [
    {
     "name": "stdout",
     "output_type": "stream",
     "text": [
      "Top 5 models by Adjusted R²\n",
      "                  subset  k    adj_R2         AIC         BIC\n",
      "29      (X2, X3, X4, X5)  4  0.633974  260.616684  273.642535\n",
      "30  (X1, X2, X3, X4, X5)  5  0.630170  262.592528  278.223549\n",
      "21          (X2, X3, X4)  3  0.616639  264.291054  274.711735\n",
      "25      (X1, X2, X3, X4)  4  0.612991  266.191097  279.216948\n",
      "23          (X2, X4, X5)  3  0.494796  291.889597  302.310277 \n",
      "\n",
      "Top 5 models by AIC\n",
      "                  subset  k    adj_R2         AIC         BIC\n",
      "29      (X2, X3, X4, X5)  4  0.633974  260.616684  273.642535\n",
      "30  (X1, X2, X3, X4, X5)  5  0.630170  262.592528  278.223549\n",
      "21          (X2, X3, X4)  3  0.616639  264.291054  274.711735\n",
      "25      (X1, X2, X3, X4)  4  0.612991  266.191097  279.216948\n",
      "23          (X2, X4, X5)  3  0.494796  291.889597  302.310277 \n",
      "\n",
      "Top 5 models by BIC\n",
      "                  subset  k    adj_R2         AIC         BIC\n",
      "29      (X2, X3, X4, X5)  4  0.633974  260.616684  273.642535\n",
      "21          (X2, X3, X4)  3  0.616639  264.291054  274.711735\n",
      "30  (X1, X2, X3, X4, X5)  5  0.630170  262.592528  278.223549\n",
      "25      (X1, X2, X3, X4)  4  0.612991  266.191097  279.216948\n",
      "23          (X2, X4, X5)  3  0.494796  291.889597  302.310277 \n",
      "\n"
     ]
    }
   ],
   "source": [
    "#All subsets and information criterion\n",
    "\n",
    "y = df[\"Y\"]\n",
    "predictors = [\"X1\", \"X2\", \"X3\", \"X4\", \"X5\"]\n",
    "\n",
    "results = []\n",
    "for k in range(1, len(predictors)+1):\n",
    "    for subset in itertools.combinations(predictors, k):\n",
    "        X = sm.add_constant(df[list(subset)])\n",
    "        model = sm.OLS(y, X).fit()\n",
    "        results.append({\n",
    "            \"subset\": subset,\n",
    "            \"k\": k,\n",
    "            \"adj_R2\": model.rsquared_adj,\n",
    "            \"AIC\": model.aic,\n",
    "            \"BIC\": model.bic\n",
    "        })\n",
    "\n",
    "res_df = pd.DataFrame(results)\n",
    "print(\"Top 5 models by Adjusted R²\")\n",
    "print(res_df.sort_values(\"adj_R2\", ascending=False).head(), \"\\n\")\n",
    "print(\"Top 5 models by AIC\")\n",
    "print(res_df.sort_values(\"AIC\").head(), \"\\n\")\n",
    "print(\"Top 5 models by BIC\")\n",
    "print(res_df.sort_values(\"BIC\").head(), \"\\n\")"
   ]
  },
  {
   "cell_type": "code",
   "execution_count": 13,
   "id": "ba0d7684-f77b-4017-86de-ba43f418ddd5",
   "metadata": {},
   "outputs": [
    {
     "name": "stdout",
     "output_type": "stream",
     "text": [
      "Best model by Adjusted R² uses predictors: ['X2', 'X3', 'X4', 'X5']\n",
      "\n"
     ]
    }
   ],
   "source": [
    "#Choose the best model (highest adj R²)\n",
    "\n",
    "best = res_df.sort_values(\"adj_R2\", ascending=False).iloc[0]\n",
    "best_predictors = list(best[\"subset\"])\n",
    "print(f\"Best model by Adjusted R² uses predictors: {best_predictors}\\n\")"
   ]
  },
  {
   "cell_type": "code",
   "execution_count": 14,
   "id": "6a16bca7-1c73-48ad-8c0e-1430f14a7ef4",
   "metadata": {},
   "outputs": [
    {
     "name": "stdout",
     "output_type": "stream",
     "text": [
      "                            OLS Regression Results                            \n",
      "==============================================================================\n",
      "Dep. Variable:                      Y   R-squared:                       0.649\n",
      "Model:                            OLS   Adj. R-squared:                  0.634\n",
      "Method:                 Least Squares   F-statistic:                     43.87\n",
      "Date:                Sun, 14 Sep 2025   Prob (F-statistic):           8.29e-21\n",
      "Time:                        10:38:51   Log-Likelihood:                -125.31\n",
      "No. Observations:                 100   AIC:                             260.6\n",
      "Df Residuals:                      95   BIC:                             273.6\n",
      "Df Model:                           4                                         \n",
      "Covariance Type:            nonrobust                                         \n",
      "==============================================================================\n",
      "                 coef    std err          t      P>|t|      [0.025      0.975]\n",
      "------------------------------------------------------------------------------\n",
      "const          1.1893      0.089     13.333      0.000       1.012       1.366\n",
      "X2            -0.5861      0.091     -6.440      0.000      -0.767      -0.405\n",
      "X3             0.5592      0.091      6.124      0.000       0.378       0.740\n",
      "X4             0.7105      0.082      8.672      0.000       0.548       0.873\n",
      "X5            -0.1966      0.083     -2.355      0.021      -0.362      -0.031\n",
      "==============================================================================\n",
      "Omnibus:                        4.462   Durbin-Watson:                   1.974\n",
      "Prob(Omnibus):                  0.107   Jarque-Bera (JB):                3.920\n",
      "Skew:                           0.473   Prob(JB):                        0.141\n",
      "Kurtosis:                       3.215   Cond. No.                         1.39\n",
      "==============================================================================\n",
      "\n",
      "Notes:\n",
      "[1] Standard Errors assume that the covariance matrix of the errors is correctly specified.\n"
     ]
    }
   ],
   "source": [
    "#Fitting Best model \n",
    "\n",
    "X_best = sm.add_constant(df[best_predictors])\n",
    "best_model = sm.OLS(y, X_best).fit()\n",
    "print(best_model.summary())"
   ]
  },
  {
   "cell_type": "code",
   "execution_count": 15,
   "id": "8e05b9cb-a07c-44aa-8fdf-19f0da13bc10",
   "metadata": {},
   "outputs": [
    {
     "name": "stdout",
     "output_type": "stream",
     "text": [
      "\n",
      "Variance Inflation Factors\n",
      "  Variable       VIF\n",
      "0    const  1.053255\n",
      "1       X2  1.004719\n",
      "2       X3  1.041876\n",
      "3       X4  1.020243\n",
      "4       X5  1.052515 \n",
      "\n"
     ]
    }
   ],
   "source": [
    "#Multicollinearity diagnostics: VIF\n",
    "\n",
    "vif_data = pd.DataFrame({\n",
    "    \"Variable\": X_best.columns,\n",
    "    \"VIF\": [variance_inflation_factor(X_best.values, i)\n",
    "            for i in range(X_best.shape[1])]\n",
    "})\n",
    "print(\"\\nVariance Inflation Factors\")\n",
    "print(vif_data, \"\\n\")"
   ]
  },
  {
   "cell_type": "code",
   "execution_count": 16,
   "id": "b850af1a-42c8-42c3-949c-190b63fbc9a8",
   "metadata": {},
   "outputs": [
    {
     "name": "stdout",
     "output_type": "stream",
     "text": [
      "Residual mean (≈0): 6.461498003318411e-16\n",
      "Residual std: 0.8514368505026784\n",
      "Skewness: 0.48012577300088544\n",
      "Kurtosis: 0.2889013868807311\n"
     ]
    }
   ],
   "source": [
    "# Residuals\n",
    "\n",
    "resid = best_model.resid\n",
    "print(\"Residual mean (≈0):\", resid.mean())\n",
    "print(\"Residual std:\", resid.std(ddof=1))\n",
    "print(\"Skewness:\", resid.skew())\n",
    "print(\"Kurtosis:\", resid.kurtosis())"
   ]
  },
  {
   "cell_type": "raw",
   "id": "49eab5dd-b7ab-4a2f-a1d7-9b584490d480",
   "metadata": {},
   "source": []
  }
 ],
 "metadata": {
  "kernelspec": {
   "display_name": "Python 3 (ipykernel)",
   "language": "python",
   "name": "python3"
  },
  "language_info": {
   "codemirror_mode": {
    "name": "ipython",
    "version": 3
   },
   "file_extension": ".py",
   "mimetype": "text/x-python",
   "name": "python",
   "nbconvert_exporter": "python",
   "pygments_lexer": "ipython3",
   "version": "3.11.4"
  }
 },
 "nbformat": 4,
 "nbformat_minor": 5
}
